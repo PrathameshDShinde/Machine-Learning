{
 "cells": [
  {
   "cell_type": "code",
   "execution_count": 140,
   "id": "66b64192",
   "metadata": {},
   "outputs": [
    {
     "name": "stdout",
     "output_type": "stream",
     "text": [
      "              precision    recall  f1-score   support\n",
      "\n",
      "           0       0.86      1.00      0.92        77\n",
      "           1       0.00      0.00      0.00        13\n",
      "\n",
      "    accuracy                           0.86        90\n",
      "   macro avg       0.43      0.50      0.46        90\n",
      "weighted avg       0.73      0.86      0.79        90\n",
      "\n"
     ]
    },
    {
     "name": "stderr",
     "output_type": "stream",
     "text": [
      "C:\\ProgramData\\anaconda3\\Lib\\site-packages\\sklearn\\metrics\\_classification.py:1469: UndefinedMetricWarning: Precision and F-score are ill-defined and being set to 0.0 in labels with no predicted samples. Use `zero_division` parameter to control this behavior.\n",
      "  _warn_prf(average, modifier, msg_start, len(result))\n",
      "C:\\ProgramData\\anaconda3\\Lib\\site-packages\\sklearn\\metrics\\_classification.py:1469: UndefinedMetricWarning: Precision and F-score are ill-defined and being set to 0.0 in labels with no predicted samples. Use `zero_division` parameter to control this behavior.\n",
      "  _warn_prf(average, modifier, msg_start, len(result))\n",
      "C:\\ProgramData\\anaconda3\\Lib\\site-packages\\sklearn\\metrics\\_classification.py:1469: UndefinedMetricWarning: Precision and F-score are ill-defined and being set to 0.0 in labels with no predicted samples. Use `zero_division` parameter to control this behavior.\n",
      "  _warn_prf(average, modifier, msg_start, len(result))\n"
     ]
    }
   ],
   "source": [
    "#### Import Libraries\n",
    "import pandas as pd \n",
    "import numpy as np\n",
    "import matplotlib.pyplot as plt\n",
    "import seaborn as sns\n",
    "from sklearn.model_selection import train_test_split\n",
    "from sklearn.ensemble import RandomForestClassifier\n",
    "from sklearn.metrics import accuracy_score,classification_report,precision_score,confusion_matrix\n",
    "\n",
    "#### Getting the data\n",
    "def read_data():\n",
    "    try:\n",
    "        data = pd.read_csv(\"C:/Data Science/Nov 2023/19 Nov 2023/Random Forest Project 9 & 10/10. Random Forests/Fraud_check.csv\")\n",
    "        return data\n",
    "    except Exception as e:\n",
    "        print(\"Data Path Not Found Error is in the Read Data Function\")\n",
    "\n",
    "df = read_data()\n",
    "\n",
    "#### Preprocessing and Feature Engineering\n",
    "df1 = df.copy()\n",
    "# print(df1.head())\n",
    "# print(df1.info())\n",
    "# print(df1.shape)\n",
    "\n",
    "# df1.isnull().sum()\n",
    "\n",
    "# df1.select_dtypes(include='number').columns\n",
    "\n",
    "# df1.select_dtypes(include='object').columns\n",
    "\n",
    "# for i in ['Taxable.Income', 'City.Population', 'Work.Experience']:\n",
    "#     sns.boxplot(data = df1,x = i)\n",
    "#     plt.show()\n",
    "\n",
    "# for i in ['Taxable.Income', 'City.Population', 'Work.Experience']:\n",
    "#     sns.histplot(data = df1,x = i,kde = True)\n",
    "#     plt.show()\n",
    "\n",
    "df1['Taxable.Income'] = np.where(df1['Taxable.Income'] <= 30000,\"Risky\",\"Good\")\n",
    "\n",
    "# df1['Taxable.Income'].value_counts()\n",
    "\n",
    "# df.columns\n",
    "\n",
    "df1 = pd.get_dummies(df1,drop_first=True)\n",
    "\n",
    "# df1.columns\n",
    "\n",
    "def data_prep(df1,t):\n",
    "    X = df1[['City.Population', 'Work.Experience', 'Undergrad_YES',\n",
    "           'Marital.Status_Married', 'Marital.Status_Single',\n",
    "            'Urban_YES']]\n",
    "    y = df1['Taxable.Income_Risky']\n",
    "    X_train,X_test,y_train,y_test = train_test_split(X,y,test_size=t,random_state=365)\n",
    "    return X_train,X_test,y_train,y_test\n",
    "\n",
    "def rndf_tree(X_train,y_train,X_test):\n",
    "    model = RandomForestClassifier(criterion=\"entropy\",max_depth=5)\n",
    "    model_fit = model.fit(X_train,y_train)\n",
    "    pred = model_fit.predict(X_test)\n",
    "    return pred\n",
    "\n",
    "def rndf_tree_diag(y_test,pred):\n",
    "    acc = accuracy_score(y_test,pred)\n",
    "    clf = classification_report(y_test,pred)\n",
    "    conf = confusion_matrix(y_test,pred)\n",
    "    return acc,clf,conf\n",
    "\n",
    "def main_function():\n",
    "    df1\n",
    "    X_train,X_test,y_train,y_test = data_prep(df1,0.15)\n",
    "    pred = rndf_tree(X_train,y_train,X_test)\n",
    "    acc,clf,conf = rndf_tree_diag(y_test,pred)\n",
    "    return clf\n",
    "\n",
    "results = main_function()\n",
    "print(results)"
   ]
  },
  {
   "cell_type": "code",
   "execution_count": null,
   "id": "186e2437",
   "metadata": {},
   "outputs": [],
   "source": []
  }
 ],
 "metadata": {
  "kernelspec": {
   "display_name": "Python 3 (ipykernel)",
   "language": "python",
   "name": "python3"
  },
  "language_info": {
   "codemirror_mode": {
    "name": "ipython",
    "version": 3
   },
   "file_extension": ".py",
   "mimetype": "text/x-python",
   "name": "python",
   "nbconvert_exporter": "python",
   "pygments_lexer": "ipython3",
   "version": "3.11.4"
  }
 },
 "nbformat": 4,
 "nbformat_minor": 5
}
