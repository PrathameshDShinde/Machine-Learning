{
 "cells": [
  {
   "cell_type": "code",
   "execution_count": 1,
   "id": "24175d7a",
   "metadata": {},
   "outputs": [
    {
     "name": "stdout",
     "output_type": "stream",
     "text": [
      "importing Jupyter notebook from Advanced_project_9.ipynb\n",
      "              precision    recall  f1-score   support\n",
      "\n",
      "           0       1.00      0.25      0.40         4\n",
      "           1       0.82      0.97      0.89        29\n",
      "           2       0.80      0.57      0.67         7\n",
      "\n",
      "    accuracy                           0.82        40\n",
      "   macro avg       0.87      0.60      0.65        40\n",
      "weighted avg       0.84      0.82      0.80        40\n",
      "\n"
     ]
    }
   ],
   "source": [
    "import import_ipynb\n",
    "import pandas as pd\n",
    "from Advanced_project_9 import main_function"
   ]
  },
  {
   "cell_type": "code",
   "execution_count": null,
   "id": "c9852284",
   "metadata": {},
   "outputs": [],
   "source": []
  }
 ],
 "metadata": {
  "kernelspec": {
   "display_name": "Python 3 (ipykernel)",
   "language": "python",
   "name": "python3"
  },
  "language_info": {
   "codemirror_mode": {
    "name": "ipython",
    "version": 3
   },
   "file_extension": ".py",
   "mimetype": "text/x-python",
   "name": "python",
   "nbconvert_exporter": "python",
   "pygments_lexer": "ipython3",
   "version": "3.11.4"
  }
 },
 "nbformat": 4,
 "nbformat_minor": 5
}
